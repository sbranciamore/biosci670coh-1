{
 "cells": [
  {
   "cell_type": "markdown",
   "metadata": {},
   "source": [
    "<a href=\"https://colab.research.google.com/github/cohmathonc/biosci670coh/blob/master/IntroductionComputationalMethods/exercises/07_ODEs.ipynb\" target=\"_parent\"><img src=\"https://colab.research.google.com/assets/colab-badge.svg\" alt=\"Open In Colab\"/></a>"
   ]
  },
  {
   "cell_type": "code",
   "execution_count": null,
   "metadata": {
    "colab": {},
    "colab_type": "code",
    "id": "c6K7JlJf5ndD"
   },
   "outputs": [],
   "source": [
    "import numpy as np\n",
    "import matplotlib.pylab as plt"
   ]
  },
  {
   "cell_type": "markdown",
   "metadata": {
    "colab_type": "text",
    "id": "5MjsT-4-uA5j"
   },
   "source": [
    "## Solving ODEs"
   ]
  },
  {
   "cell_type": "markdown",
   "metadata": {
    "colab_type": "text",
    "id": "1K3vJYqluOSe"
   },
   "source": [
    "You see the following plot (if not displayed, view [here](https://github.com/cohmathonc/biosci670coh/blob/master/IntroductionComputationalMethods/exercises/figs/ODE_oscillating_solution.png)) in a report:\n",
    "\n",
    "<img src=\"figs/ODE_oscillating_solution.png\">\n",
    "\n",
    "The authors state that the plot shows the simulated time evolution of a specific cell growth model, and they report an oscillatory growth pattern. They also mention that the explicit Euler method was used to solve the ODE that describes the growth model.\n",
    "\n",
    "1. You suspect that the reported oscillatory pattern might be a numerical artifact. Why? \n",
    "   \n",
    "   (Review *1.1.1 Euler Method (explicit)* in the [ODE notebook](https://github.com/cohmathonc/biosci670coh/blob/master/IntroductionComputationalMethods/05_IntroCompMethods_SolvingODEs.ipynb))\n",
    "\n",
    "\n",
    "2. How could the authors test numerically whether the pattern that they discovered is indeed a feature of their ODE model?\n",
    "\n",
    "\n",
    "3. After contacting the authors, you learned that their ODE is based on the *logistic growth model* \n",
    "$$\\frac{dy}{dt}=r\\,y\\, (1-\\frac{y}{K}) \\, ,\\tag{1}$$\n",
    "with parameter choices $r=0.1$, $K=1$and initial value $y_0=0.1$.\n",
    "\n",
    "  Approximate $y(t)$ numerically in the range from $t_0=0$ and $t_\\text{max}=100$ using the explicit Euler method. Solve the model for 3 different step sizes $\\Delta t = \\{10, 5, 1\\}$. What are the implications for question (1)?\n",
    "\n",
    "\n",
    "4. (**optional**) As in question (3) but now use the Runge-Kutta RK4 method with fixed time step (see [notebook](https://github.com/cohmathonc/biosci670coh/blob/master/IntroductionComputationalMethods/05_IntroCompMethods_SolvingODEs.ipynb)) for solving the ODE.\n",
    "\n",
    "\n",
    "5. (**optional**) Use the RK45 method with adaptive time stepping provided by `scipy.integrate` through the `solve_ivp` interface.\n",
    "   The solution object contains time steps and estimated function values resulting from adaptive time stepping.\n",
    "\n",
    "\n",
    "6. (**optional**) Read the description of the `rtol` option of `scipy.integrate.solve_ivp`. How do different choices of `rtol` to affect the size/number of time-steps computed by the adaptive algorithm. \n",
    "   \n",
    "\n"
   ]
  },
  {
   "cell_type": "markdown",
   "metadata": {},
   "source": [
    "###### About \n",
    "This notebook is part of the *biosci670* course on *Mathematical Modeling and Methods for Biomedical Science*.\n",
    "See https://github.com/cohmathonc/biosci670coh for more information and material."
   ]
  }
 ],
 "metadata": {
  "colab": {
   "collapsed_sections": [
    "plodr4Y9Ap9m",
    "UqivxHm6BTYD",
    "KBQMIVtEXzK7",
    "iJ6aUbHTX7MZ",
    "oeTie8JMdDIh",
    "HtGP0DxWdrll",
    "5MjsT-4-uA5j",
    "tV62FaWs7wKE"
   ],
   "name": "CompMethods_Assignments.ipynb",
   "provenance": [],
   "version": "0.3.2"
  },
  "kernelspec": {
   "display_name": "Python 3",
   "language": "python",
   "name": "python3"
  },
  "language_info": {
   "codemirror_mode": {
    "name": "ipython",
    "version": 3
   },
   "file_extension": ".py",
   "mimetype": "text/x-python",
   "name": "python",
   "nbconvert_exporter": "python",
   "pygments_lexer": "ipython3",
   "version": "3.6.8"
  },
  "toc": {
   "base_numbering": 1,
   "nav_menu": {},
   "number_sections": true,
   "sideBar": true,
   "skip_h1_title": false,
   "title_cell": "Table of Contents",
   "title_sidebar": "Contents",
   "toc_cell": false,
   "toc_position": {},
   "toc_section_display": true,
   "toc_window_display": false
  }
 },
 "nbformat": 4,
 "nbformat_minor": 1
}
